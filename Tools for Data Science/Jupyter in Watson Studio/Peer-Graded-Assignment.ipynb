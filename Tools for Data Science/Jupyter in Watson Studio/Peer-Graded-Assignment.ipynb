{
 "cells": [
  {
   "cell_type": "markdown",
   "metadata": {},
   "source": [
    "<h1> My Jupyter Notebook on IBM Watson Studio </h1>"
   ]
  },
  {
   "cell_type": "markdown",
   "metadata": {},
   "source": [
    "__Yash Jain__  \n",
    "Designation: MBA Student at Amity University"
   ]
  },
  {
   "cell_type": "markdown",
   "metadata": {},
   "source": [
    "_I am interested in data science, because personally, I love understanding data. I am curious about data, and I like analysing it, modelling it, and creating visualizations._  \n",
    "\n",
    "_Another reason is that I aspire to become a space scientist in the future, and hence, I want to make my fundamentals on data science really strong._"
   ]
  },
  {
   "cell_type": "markdown",
   "metadata": {},
   "source": [
    "<h3> Code to see if the input string is a palindrome or not </h3>"
   ]
  },
  {
   "cell_type": "code",
   "execution_count": 3,
   "metadata": {},
   "outputs": [
    {
     "name": "stdin",
     "output_type": "stream",
     "text": [
      "enter: abcdedcba\n"
     ]
    },
    {
     "name": "stdout",
     "output_type": "stream",
     "text": [
      "palindrome\n"
     ]
    }
   ],
   "source": [
    "n=input('enter:')\n",
    "\n",
    "print('palindrome' if n==n[-1::-1] else 'not palindrome')"
   ]
  },
  {
   "cell_type": "markdown",
   "metadata": {},
   "source": [
    "<center><img src=\"https://support.labs.cognitiveclass.ai/logo/logo/design_setting/226846/original/IBM_Skills_Network_Logo_-_Horizontal-349x100.png\" height=20% width=50%><center>\n",
    "<hr>  \n",
    "\n",
    "| Name | Link |\n",
    "| --- | ----------- |\n",
    "| `Google` | <a href=\"https://google.com\">Go to Google</a> |\n",
    "| `LinkedIN` |<a href=\"https://linkedin.com\"> Go to LinkedIN </a> |\n",
    "| `Facebook` |<a href=\"https://facebook.com\"> Go to Facebook</a> |\n",
    "| `Coursera` |<a href=\"https://coursera.org\"> Go to Coursera </a> |\n",
    "| `Amazon` |<a href=\"https://amazon.com\"> Go to Amazon </a> |\n",
    "\n",
    "\n"
   ]
  },
  {
   "cell_type": "code",
   "execution_count": null,
   "metadata": {},
   "outputs": [],
   "source": []
  }
 ],
 "metadata": {
  "kernelspec": {
   "display_name": "Python",
   "language": "python",
   "name": "conda-env-python-py"
  },
  "language_info": {
   "codemirror_mode": {
    "name": "ipython",
    "version": 3
   },
   "file_extension": ".py",
   "mimetype": "text/x-python",
   "name": "python",
   "nbconvert_exporter": "python",
   "pygments_lexer": "ipython3",
   "version": "3.7.12"
  }
 },
 "nbformat": 4,
 "nbformat_minor": 4
}
