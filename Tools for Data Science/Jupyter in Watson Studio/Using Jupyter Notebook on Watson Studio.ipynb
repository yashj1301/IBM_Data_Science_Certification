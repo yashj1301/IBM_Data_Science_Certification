{
    "cells": [
        {
            "metadata": {
                "collapsed": true
            },
            "cell_type": "markdown",
            "source": "## Demo of Jupyter in IBM"
        },
        {
            "metadata": {},
            "cell_type": "markdown",
            "source": "Let us demonstrate jupyter in IBM Watson Studio. A simple program to print a string."
        },
        {
            "metadata": {},
            "cell_type": "code",
            "source": "x,y='IBM','Great';\n\nprint('{} is {}'.format(x,y))",
            "execution_count": 1,
            "outputs": [
                {
                    "output_type": "stream",
                    "text": "IBM is Great\n",
                    "name": "stdout"
                }
            ]
        },
        {
            "metadata": {},
            "cell_type": "code",
            "source": "",
            "execution_count": null,
            "outputs": []
        }
    ],
    "metadata": {
        "kernelspec": {
            "name": "python3",
            "display_name": "Python 3.9",
            "language": "python"
        },
        "language_info": {
            "name": "python",
            "version": "3.9.12",
            "mimetype": "text/x-python",
            "codemirror_mode": {
                "name": "ipython",
                "version": 3
            },
            "pygments_lexer": "ipython3",
            "nbconvert_exporter": "python",
            "file_extension": ".py"
        }
    },
    "nbformat": 4,
    "nbformat_minor": 1
}
