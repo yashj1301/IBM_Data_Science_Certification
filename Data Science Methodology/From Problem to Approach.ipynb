{
  "cells": [
    {
      "cell_type": "markdown",
      "metadata": {
        "button": false,
        "new_sheet": false,
        "run_control": {
          "read_only": false
        },
        "id": "-Y8z6rE7U5oH"
      },
      "source": [
        "<img src = \"https://cf-courses-data.s3.us.cloud-object-storage.appdomain.cloud/IBMDeveloperSkillsNetwork-DS0103EN-SkillsNetwork/labs/Module%201/images/IDSNlogo.png\" width = 400>\n",
        "\n",
        "# From Problem to Approach\n",
        "\n",
        "Estimated time needed: **20** minutes\n",
        "\n",
        "## Objectives\n",
        "\n",
        "After completing this lab you will be able to:\n",
        "\n",
        "*   Have a Business Understanding of case studies\n",
        "*   Analytically approach problems\n"
      ]
    },
    {
      "cell_type": "markdown",
      "metadata": {
        "button": false,
        "new_sheet": false,
        "run_control": {
          "read_only": false
        },
        "id": "tGqNiYZbU5oO"
      },
      "source": [
        "## Table of Contents\n",
        "\n",
        "<div class=\"alert alert-block alert-info\" style=\"margin-top: 20px\">\n",
        "\n",
        "1.  [Business Understanding](#0)<br>\n",
        "2.  [Analytic Approach](#2) <br>\n",
        "    </div>\n",
        "    <hr>\n"
      ]
    },
    {
      "cell_type": "markdown",
      "metadata": {
        "button": false,
        "new_sheet": false,
        "run_control": {
          "read_only": false
        },
        "id": "hCE1CJ0LU5oO"
      },
      "source": [
        "# Business Understanding <a id=\"0\"></a>\n"
      ]
    },
    {
      "cell_type": "markdown",
      "metadata": {
        "button": false,
        "new_sheet": false,
        "run_control": {
          "read_only": false
        },
        "id": "iQaR75CsU5oP"
      },
      "source": [
        "This is the **Data Science Methodology**, a flowchart that begins with business understanding.\n"
      ]
    },
    {
      "cell_type": "markdown",
      "metadata": {
        "button": false,
        "new_sheet": false,
        "run_control": {
          "read_only": false
        },
        "id": "vnMrjGPwU5oP"
      },
      "source": [
        "<img src=\"https://cf-courses-data.s3.us.cloud-object-storage.appdomain.cloud/IBMDeveloperSkillsNetwork-DS0103EN-SkillsNetwork/labs/Module%201/images/lab1_fig1_flowchart_business_understanding.png\" width=500>\n"
      ]
    },
    {
      "cell_type": "markdown",
      "metadata": {
        "button": false,
        "new_sheet": false,
        "run_control": {
          "read_only": false
        },
        "id": "ox1cDetRU5oP"
      },
      "source": [
        "#### Why is the business understanding stage important?\n"
      ]
    },
    {
      "cell_type": "raw",
      "metadata": {
        "button": false,
        "new_sheet": false,
        "run_control": {
          "read_only": false
        },
        "id": "v2rUDugGU5oP"
      },
      "source": [
        "Your Answer: Business Understanding stage is the very first stage of the Data Science Methodology. It is where the clarity of the business problem is defined. You define what is the exact problem that needs to be solved here. \n",
        "\n",
        "If this step goes wrong, our whole data science project will have an increased chance of failure. \n",
        "\n"
      ]
    },
    {
      "cell_type": "markdown",
      "metadata": {
        "button": false,
        "new_sheet": false,
        "run_control": {
          "read_only": false
        },
        "id": "PA9b075TU5oQ"
      },
      "source": [
        "<details><summary>Click here for the solution</summary>\n",
        "\n",
        "```python\n",
        "    #The correct answer is:\n",
        "    It helps clarify the goal of the entity asking the question.\n",
        "```\n",
        "\n",
        "</details>\n"
      ]
    },
    {
      "cell_type": "markdown",
      "metadata": {
        "button": false,
        "new_sheet": false,
        "run_control": {
          "read_only": false
        },
        "id": "Yle7jF6rU5oQ"
      },
      "source": [
        "#### Looking at this diagram, we immediately spot two outstanding features of the data science methodology.\n"
      ]
    },
    {
      "cell_type": "markdown",
      "metadata": {
        "button": false,
        "new_sheet": false,
        "run_control": {
          "read_only": false
        },
        "id": "4I85pbmIU5oQ"
      },
      "source": [
        "<img src=\"https://cf-courses-data.s3.us.cloud-object-storage.appdomain.cloud/IBMDeveloperSkillsNetwork-DS0103EN-SkillsNetwork/labs/Module%201/images/lab1_fig2_datascience_methodology_flowchart.png\" width = 500> \n"
      ]
    },
    {
      "cell_type": "markdown",
      "metadata": {
        "button": false,
        "new_sheet": false,
        "run_control": {
          "read_only": false
        },
        "id": "CnfonJwQU5oQ"
      },
      "source": [
        "#### What are they?\n"
      ]
    },
    {
      "cell_type": "raw",
      "metadata": {
        "button": false,
        "new_sheet": false,
        "run_control": {
          "read_only": false
        },
        "id": "P21bmYtfU5oR"
      },
      "source": [
        "Your Answer: \n",
        "1. The flowchart is never ending. It is a continuous process.\n",
        "2. The flowchart is using an iterative model."
      ]
    },
    {
      "cell_type": "markdown",
      "metadata": {
        "button": false,
        "new_sheet": false,
        "run_control": {
          "read_only": false
        },
        "id": "GyphznPxU5oR"
      },
      "source": [
        "<details><summary>Click here for the solution</summary>\n",
        "\n",
        "```python\n",
        "    #The correct answer is:\n",
        "    # 1. The flowchart is highly iterative.\n",
        "    #2. The flowchart never ends. \n",
        "```\n",
        "\n",
        "</details>\n"
      ]
    },
    {
      "cell_type": "markdown",
      "metadata": {
        "button": false,
        "new_sheet": false,
        "run_control": {
          "read_only": false
        },
        "id": "wG3uVWHxU5oR"
      },
      "source": [
        "#### Now let's illustrate the data science methodology with a case study.\n"
      ]
    },
    {
      "cell_type": "markdown",
      "metadata": {
        "button": false,
        "new_sheet": false,
        "run_control": {
          "read_only": false
        },
        "id": "k6Q79pHcU5oR"
      },
      "source": [
        "Say, we are interested in automating the process of figuring out the cuisine of a given dish or recipe. Let's apply the business understanding stage to this problem.\n"
      ]
    },
    {
      "cell_type": "markdown",
      "metadata": {
        "button": false,
        "new_sheet": false,
        "run_control": {
          "read_only": false
        },
        "id": "FJ5ajAAzU5oR"
      },
      "source": [
        "#### Q. Can we predict the cuisine of a given dish using the name of the dish only?\n"
      ]
    },
    {
      "cell_type": "raw",
      "metadata": {
        "button": false,
        "new_sheet": false,
        "run_control": {
          "read_only": false
        },
        "id": "BXr1Px9zU5oR"
      },
      "source": [
        "Your Answer: No, we cannot do that because for that, we need more details regarding the dish. The ingredients list, the season, and customer preferences.\n",
        "\n"
      ]
    },
    {
      "cell_type": "markdown",
      "metadata": {
        "button": false,
        "new_sheet": false,
        "run_control": {
          "read_only": false
        },
        "id": "Uh9mmt0yU5oS"
      },
      "source": [
        "<details><summary>Click here for the solution</summary>\n",
        "\n",
        "```python\n",
        "    #The correct answer is:\n",
        "    No.\n",
        "```\n",
        "\n",
        "</details>\n"
      ]
    },
    {
      "cell_type": "markdown",
      "metadata": {
        "button": false,
        "new_sheet": false,
        "run_control": {
          "read_only": false
        },
        "id": "WhPMWsh3U5oS"
      },
      "source": [
        "#### Q. For example, the following dish names were taken from the menu of a local restaurant in Toronto, Ontario in Canada.\n",
        "\n",
        "#### 1. Beast\n",
        "\n",
        "#### 2. 2 PM\n",
        "\n",
        "#### 3. 4 Minute\n"
      ]
    },
    {
      "cell_type": "markdown",
      "metadata": {
        "button": false,
        "new_sheet": false,
        "run_control": {
          "read_only": false
        },
        "id": "rXpsEqBhU5oS"
      },
      "source": [
        "#### Are you able to tell the cuisine of these dishes?\n"
      ]
    },
    {
      "cell_type": "raw",
      "metadata": {
        "button": false,
        "new_sheet": false,
        "run_control": {
          "read_only": false
        },
        "id": "ElnNbEVTU5oS"
      },
      "source": [
        "Your Answer: No. It is essentially impossible to name the cuisines from the dishes. \n",
        "\n"
      ]
    },
    {
      "cell_type": "markdown",
      "metadata": {
        "button": false,
        "new_sheet": false,
        "run_control": {
          "read_only": false
        },
        "id": "LfsKN_ByU5oS"
      },
      "source": [
        "<details><summary>Click here for the solution</summary>\n",
        "\n",
        "The cuisine is <strong>Japanese</strong>.\n",
        "\n",
        "Here are links to the images of the dishes:<br/>\n",
        "\n",
        "<a href= \"https://ibm.box.com/shared/static/5e7duvewfl5bk4317sna5skvdhrehro2.png?utm_medium=Exinfluencer&utm_source=Exinfluencer&utm_content=000026UJ&utm_term=10006555&utm_id=NA-SkillsNetwork-Channel-SkillsNetworkCoursesIBMDeveloperSkillsNetworkDS0103ENSkillsNetwork20083987-2022-01-01\">Beast</a><br/>\n",
        "\n",
        "<a href= \"https://ibm.box.com/shared/static/d9xuzqm8cq76zxxcc0f9gdts4iksipyk.png?utm_medium=Exinfluencer&utm_source=Exinfluencer&utm_content=000026UJ&utm_term=10006555&utm_id=NA-SkillsNetwork-Channel-SkillsNetworkCoursesIBMDeveloperSkillsNetworkDS0103ENSkillsNetwork20083987-2022-01-01\">2PM</a><br/>\n",
        "\n",
        "<a href= \"https://ibm.box.com/shared/static/f1fwvvwn4u8rx8tghep6zyj5pi6a8v8k.png?utm_medium=Exinfluencer&utm_source=Exinfluencer&utm_content=000026UJ&utm_term=10006555&utm_id=NA-SkillsNetwork-Channel-SkillsNetworkCoursesIBMDeveloperSkillsNetworkDS0103ENSkillsNetwork20083987-2022-01-01\">4Minute</a><br/>\n",
        "\n",
        "Photographs by Avlxyz: <a href= \"https://commons.wikimedia.org/wiki/Category:Photographs_by_Avlxyz?utm_medium=Exinfluencer&utm_source=Exinfluencer&utm_content=000026UJ&utm_term=10006555&utm_id=NA-SkillsNetwork-Channel-SkillsNetworkCoursesIBMDeveloperSkillsNetworkDS0103ENSkillsNetwork20083987-2022-01-01\">Link</a><br/>\n",
        "\n",
        "</details>\n"
      ]
    },
    {
      "cell_type": "markdown",
      "metadata": {
        "button": false,
        "new_sheet": false,
        "run_control": {
          "read_only": false
        },
        "id": "iAuFFXMdU5oT"
      },
      "source": [
        "#### Q. What about by appearance only? Yes or No.\n"
      ]
    },
    {
      "cell_type": "raw",
      "metadata": {
        "button": false,
        "new_sheet": false,
        "run_control": {
          "read_only": false
        },
        "id": "PhYCfnrHU5oT"
      },
      "source": [
        "Your Answer: No. because appearances are deceiving, even more to machines !\n",
        "\n"
      ]
    },
    {
      "cell_type": "markdown",
      "metadata": {
        "button": false,
        "new_sheet": false,
        "run_control": {
          "read_only": false
        },
        "id": "8Cd525JBU5oT"
      },
      "source": [
        "<details><summary>Click here for the solution</summary>\n",
        "\n",
        "```python\n",
        "    #The correct answer is:\n",
        "    No, especially when it comes to countries in close geographical proximity such as Scandinavian countries, or Asian countries.\n",
        "    \n",
        "```\n",
        "\n",
        "</details>\n"
      ]
    },
    {
      "cell_type": "markdown",
      "metadata": {
        "button": false,
        "new_sheet": false,
        "run_control": {
          "read_only": false
        },
        "id": "iGKsyXEjU5oW"
      },
      "source": [
        "At this point, we realize that automating the process of determining the cuisine of a given dish is not a straightforward problem as we need to come up with a way that is very robust to the many cuisines and their variations.\n"
      ]
    },
    {
      "cell_type": "markdown",
      "metadata": {
        "button": false,
        "new_sheet": false,
        "run_control": {
          "read_only": false
        },
        "id": "c6NZHtYvU5oX"
      },
      "source": [
        "#### Q. What about determining the cuisine of a dish based on its ingredients?\n"
      ]
    },
    {
      "cell_type": "raw",
      "metadata": {
        "button": false,
        "new_sheet": false,
        "run_control": {
          "read_only": false
        },
        "id": "TZp2ubT9U5oX"
      },
      "source": [
        "Your Answer: This is a better option, as we can shortlist various factors like - countries where the cuisines using the dishes, the season, preferences and popularity, availability of the ingredients and many more. \n"
      ]
    },
    {
      "cell_type": "markdown",
      "metadata": {
        "button": false,
        "new_sheet": false,
        "run_control": {
          "read_only": false
        },
        "id": "x_8WispHU5oY"
      },
      "source": [
        "<details><summary>Click here for the solution</summary>\n",
        "\n",
        "```python\n",
        "    #The correct answer is:\n",
        "    Potentially yes, as there are specific ingredients unique to each cuisine.\n",
        "\n",
        "```\n",
        "\n",
        "</details>\n"
      ]
    },
    {
      "cell_type": "markdown",
      "metadata": {
        "button": false,
        "new_sheet": false,
        "run_control": {
          "read_only": false
        },
        "id": "ziz1sIbZU5oZ"
      },
      "source": [
        "As you guessed, yes determining the cuisine of a given dish based on its ingredients seems like a viable solution as some ingredients are unique to cuisines. For example:\n"
      ]
    },
    {
      "cell_type": "markdown",
      "metadata": {
        "button": false,
        "new_sheet": false,
        "run_control": {
          "read_only": false
        },
        "id": "VKl6CvVsU5oZ"
      },
      "source": [
        "*   When we talk about **American** cuisines, the first ingredient that comes to one's mind (or at least to my mind =D) is beef or turkey.\n",
        "\n",
        "*   When we talk about **British** cuisines, the first ingredient that comes to one's mind is haddock or mint sauce.\n",
        "\n",
        "*   When we talk about **Canadian** cuisines, the first ingredient that comes to one's mind is bacon or poutine.\n",
        "\n",
        "*   When we talk about **French** cuisines, the first ingredient that comes to one's mind is bread or butter.\n",
        "\n",
        "*   When we talk about **Italian** cuisines, the first ingredient that comes to one's mind is tomato or ricotta.\n",
        "\n",
        "*   When we talk about **Japanese** cuisines, the first ingredient that comes to one's mind is seaweed or soy sauce.\n",
        "\n",
        "*   When we talk about **Chinese** cuisines, the first ingredient that comes to one's mind is ginger or garlic.\n",
        "\n",
        "*   When we talk about **indian** cuisines, the first ingredient that comes to one's mind is masala or chillis.\n"
      ]
    },
    {
      "cell_type": "markdown",
      "metadata": {
        "button": false,
        "new_sheet": false,
        "run_control": {
          "read_only": false
        },
        "id": "S9DytBgwU5oa"
      },
      "source": [
        "#### Accordingly, can you determine the cuisine of the dish associated with the following list of ingredients?\n"
      ]
    },
    {
      "cell_type": "markdown",
      "metadata": {
        "button": false,
        "new_sheet": false,
        "run_control": {
          "read_only": false
        },
        "id": "e8xgFUCcU5oa"
      },
      "source": [
        "<img src=\"https://cf-courses-data.s3.us.cloud-object-storage.appdomain.cloud/IBMDeveloperSkillsNetwork-DS0103EN-SkillsNetwork/labs/Module%201/lab1_fig3_ingredients.png\" width=600>\n"
      ]
    },
    {
      "cell_type": "raw",
      "metadata": {
        "button": false,
        "new_sheet": false,
        "run_control": {
          "read_only": false
        },
        "id": "ZlZlrkovU5oa"
      },
      "source": [
        "Your Answer: preferably some rice dish. Chicken rice?\n",
        "\n",
        "\n",
        "\n"
      ]
    },
    {
      "cell_type": "markdown",
      "metadata": {
        "button": false,
        "new_sheet": false,
        "run_control": {
          "read_only": false
        },
        "id": "FIGMUzsuU5ob"
      },
      "source": [
        "<details><summary>Click here for the solution</summary>\n",
        "\n",
        "```python\n",
        "    #The correct answer is:\n",
        "    Japanese since the recipe is most likely that of a sushi roll.\n",
        "\n",
        "```\n",
        "\n",
        "</details>\n"
      ]
    },
    {
      "cell_type": "markdown",
      "metadata": {
        "button": false,
        "new_sheet": false,
        "run_control": {
          "read_only": false
        },
        "id": "xa6-m0QYU5ob"
      },
      "source": [
        "# Analytic Approach <a id=\"2\"></a>\n"
      ]
    },
    {
      "cell_type": "markdown",
      "metadata": {
        "button": false,
        "new_sheet": false,
        "run_control": {
          "read_only": false
        },
        "id": "8NWwYILYU5oc"
      },
      "source": [
        "<img src=\"https://cf-courses-data.s3.us.cloud-object-storage.appdomain.cloud/IBMDeveloperSkillsNetwork-DS0103EN-SkillsNetwork/labs/Module%201/images/lab1_fig4_flowchart_analytic_approach.png\" width=500>\n"
      ]
    },
    {
      "cell_type": "markdown",
      "metadata": {
        "button": false,
        "new_sheet": false,
        "run_control": {
          "read_only": false
        },
        "id": "1ncWcFtIU5oc"
      },
      "source": [
        "#### So why are we interested in data science?\n"
      ]
    },
    {
      "cell_type": "markdown",
      "metadata": {
        "button": false,
        "new_sheet": false,
        "run_control": {
          "read_only": false
        },
        "id": "N0I8KIbUU5oc"
      },
      "source": [
        "Once the business problem has been clearly stated, the data scientist can define the analytic approach to solve the problem. This step entails expressing the problem in the context of statistical and machine-learning techniques, so that the entity or stakeholders with the problem can identify the most suitable techniques for the desired outcome.\n"
      ]
    },
    {
      "cell_type": "markdown",
      "metadata": {
        "button": false,
        "new_sheet": false,
        "run_control": {
          "read_only": false
        },
        "id": "JN53lI0CU5od"
      },
      "source": [
        "#### Why is the analytic approach stage important?\n"
      ]
    },
    {
      "cell_type": "raw",
      "metadata": {
        "button": false,
        "new_sheet": false,
        "run_control": {
          "read_only": false
        },
        "id": "iUbEQqjDU5od"
      },
      "source": [
        "Your Answer: This stage will define how we will use our data to solve our problem. Finding out the correct analytical approach is crucial for any data science process.\n",
        "\n"
      ]
    },
    {
      "cell_type": "markdown",
      "metadata": {
        "button": false,
        "new_sheet": false,
        "run_control": {
          "read_only": false
        },
        "id": "PPDJCoPcU5od"
      },
      "source": [
        "<details><summary>Click here for the solution</summary>\n",
        "\n",
        "```python\n",
        "    #The correct answer is:\n",
        "    Because it helps identify what type of patterns will be needed to address the question most effectively.\n",
        "\n",
        "```\n",
        "\n",
        "</details>\n"
      ]
    },
    {
      "cell_type": "markdown",
      "metadata": {
        "button": false,
        "new_sheet": false,
        "run_control": {
          "read_only": false
        },
        "id": "NQ9-1TVbU5oe"
      },
      "source": [
        "#### Let's explore a machine learning algorithm, decision trees, and see if it is the right technique to automate the process of identifying the cuisine of a given dish or recipe while simultaneously providing us with some insight on why a given recipe is believed to belong to a certain type of cuisine.\n"
      ]
    },
    {
      "cell_type": "markdown",
      "metadata": {
        "button": false,
        "new_sheet": false,
        "run_control": {
          "read_only": false
        },
        "id": "stUEcKtJU5oe"
      },
      "source": [
        "This is a decision tree that a naive person might create manually. Starting at the top with all the recipes for all the cuisines in the world, if a recipe contains **rice**, then this decision tree would classify it as a **Japanese** cuisine. Otherwise, it would be classified as not a **Japanese** cuisine.\n"
      ]
    },
    {
      "cell_type": "markdown",
      "metadata": {
        "button": false,
        "new_sheet": false,
        "run_control": {
          "read_only": false
        },
        "id": "nl-MJkbfU5of"
      },
      "source": [
        "<img src=\"https://cf-courses-data.s3.us.cloud-object-storage.appdomain.cloud/IBMDeveloperSkillsNetwork-DS0103EN-SkillsNetwork/labs/Module%201/images/lab1_fig5_decision_tree_3.png\" width=500>\n"
      ]
    },
    {
      "cell_type": "markdown",
      "metadata": {
        "button": false,
        "new_sheet": false,
        "run_control": {
          "read_only": false
        },
        "id": "Uu1sqX46U5of"
      },
      "source": [
        "#### Is this a good decision tree?  Yes or  No, and why?\n"
      ]
    },
    {
      "cell_type": "raw",
      "metadata": {
        "button": false,
        "new_sheet": false,
        "run_control": {
          "read_only": false
        },
        "id": "PhkJLM-pU5og"
      },
      "source": [
        "Your Answer:\n",
        "\n",
        "No, because the assumption that japanese dishes always contain rice is wrong. \n",
        "\n",
        "\n"
      ]
    },
    {
      "cell_type": "markdown",
      "metadata": {
        "button": false,
        "new_sheet": false,
        "run_control": {
          "read_only": false
        },
        "id": "mTtyMz7VU5og"
      },
      "source": [
        "<details><summary>Click here for the solution</summary>\n",
        "\n",
        "```python\n",
        "    #The correct answer is:\n",
        "    No, because a plethora of dishes from other cuisines contain rice. Therefore, using rice as the ingredient in the Decision node to split on is not a good choice.\n",
        "    \n",
        "```\n",
        "\n",
        "</details>\n"
      ]
    },
    {
      "cell_type": "markdown",
      "metadata": {
        "button": false,
        "new_sheet": false,
        "run_control": {
          "read_only": false
        },
        "id": "ZoM6AIaUU5og"
      },
      "source": [
        "#### In order to build a very powerful decision tree for the recipe case study, let's take some time to learn more about decision trees.\n"
      ]
    },
    {
      "cell_type": "markdown",
      "metadata": {
        "button": false,
        "new_sheet": false,
        "run_control": {
          "read_only": false
        },
        "id": "W-LNZUGMU5og"
      },
      "source": [
        "*   Decision trees are built using recursive partitioning to classify the data.\n",
        "*   When partitioning the data, decision trees use the most predictive feature (ingredient in this case) to split the data.\n",
        "*   **Predictiveness** is based on decrease in entropy - gain in information, or *impurity*.\n"
      ]
    },
    {
      "cell_type": "markdown",
      "metadata": {
        "button": false,
        "new_sheet": false,
        "run_control": {
          "read_only": false
        },
        "id": "_xE-5UoUU5oi"
      },
      "source": [
        "#### Suppose that our data is comprised of green triangles and red circles.\n"
      ]
    },
    {
      "cell_type": "markdown",
      "metadata": {
        "button": false,
        "new_sheet": false,
        "run_control": {
          "read_only": false
        },
        "id": "uQDelzf5U5oi"
      },
      "source": [
        "The following decision tree would be considered the optimal model for classifying the data into a node for green triangles and a node for red circles.\n"
      ]
    },
    {
      "cell_type": "markdown",
      "metadata": {
        "button": false,
        "new_sheet": false,
        "run_control": {
          "read_only": false
        },
        "id": "xPIQOFBeU5oj"
      },
      "source": [
        "<img src=\"https://cf-courses-data.s3.us.cloud-object-storage.appdomain.cloud/IBMDeveloperSkillsNetwork-DS0103EN-SkillsNetwork/labs/Module%201/images/lab1_fig6_decision_tree_5.png\" width=400>\n"
      ]
    },
    {
      "cell_type": "markdown",
      "metadata": {
        "button": false,
        "new_sheet": false,
        "run_control": {
          "read_only": false
        },
        "id": "_YXuQBEiU5oj"
      },
      "source": [
        "Each of the classes in the leaf nodes are completely pure – that is, each leaf node only contains datapoints that belong to the same class.\n"
      ]
    },
    {
      "cell_type": "markdown",
      "metadata": {
        "button": false,
        "new_sheet": false,
        "run_control": {
          "read_only": false
        },
        "id": "03IARm_gU5ok"
      },
      "source": [
        "On the other hand, the following decision tree is an example of the worst-case scenario that the model could output.\n"
      ]
    },
    {
      "cell_type": "markdown",
      "metadata": {
        "button": false,
        "new_sheet": false,
        "run_control": {
          "read_only": false
        },
        "id": "G4_EW05ZU5ol"
      },
      "source": [
        "<img src=\"https://cf-courses-data.s3.us.cloud-object-storage.appdomain.cloud/IBMDeveloperSkillsNetwork-DS0103EN-SkillsNetwork/labs/Module%201/images/lab1_fig7_decision_tree_2.png\" width=500>\n"
      ]
    },
    {
      "cell_type": "markdown",
      "metadata": {
        "button": false,
        "new_sheet": false,
        "run_control": {
          "read_only": false
        },
        "id": "37QMCrSTU5ol"
      },
      "source": [
        "Each leaf node contains datapoints belonging to the two classes resulting in many datapoints ultimately being misclassified.\n"
      ]
    },
    {
      "cell_type": "markdown",
      "metadata": {
        "button": false,
        "new_sheet": false,
        "run_control": {
          "read_only": false
        },
        "id": "kbiQeUKuU5om"
      },
      "source": [
        "#### A tree stops growing at a node when:\n",
        "\n",
        "*   Pure or nearly pure.\n",
        "*   No remaining variables on which to further subset the data.\n",
        "*   The tree has grown to a preselected size limit.\n"
      ]
    },
    {
      "cell_type": "markdown",
      "metadata": {
        "button": false,
        "new_sheet": false,
        "run_control": {
          "read_only": false
        },
        "id": "G4rro4fXU5om"
      },
      "source": [
        "#### Here are some characteristics of decision trees:\n"
      ]
    },
    {
      "cell_type": "markdown",
      "metadata": {
        "button": false,
        "new_sheet": false,
        "run_control": {
          "read_only": false
        },
        "id": "2zcRO2xbU5on"
      },
      "source": [
        "<img src=\"https://cf-courses-data.s3.us.cloud-object-storage.appdomain.cloud/IBMDeveloperSkillsNetwork-DS0103EN-SkillsNetwork/labs/Module%201/images/lab1_fig8_decision_trees_table.png\" width=800>\n"
      ]
    },
    {
      "cell_type": "markdown",
      "metadata": {
        "button": false,
        "new_sheet": false,
        "run_control": {
          "read_only": false
        },
        "id": "p26nsppzU5on"
      },
      "source": [
        "Now let's put what we learned about decision trees to use. Let's try and build a much better version of the decision tree for our recipe problem.\n"
      ]
    },
    {
      "cell_type": "markdown",
      "metadata": {
        "button": false,
        "new_sheet": false,
        "run_control": {
          "read_only": false
        },
        "id": "RZ1cVvUXU5on"
      },
      "source": [
        "<img src=\"https://cf-courses-data.s3.us.cloud-object-storage.appdomain.cloud/IBMDeveloperSkillsNetwork-DS0103EN-SkillsNetwork/labs/Module%201/images/lab1_fig9_decision_tree_4.png\" width = 500>\n"
      ]
    },
    {
      "cell_type": "markdown",
      "metadata": {
        "button": false,
        "new_sheet": false,
        "run_control": {
          "read_only": false
        },
        "id": "QrEmT1KxU5on"
      },
      "source": [
        "I hope you agree that the above decision tree is a much better version than the previous one. Although we are still using **Rice** as the ingredient in the first *decision node*, recipes get divided into **Asian Food** and **Non-Asian Food**. **Asian Food** is then further divided into **Japanese** and **Not Japanese** based on the **Wasabi** ingredient. This process of splitting *leaf nodes* continues until each *leaf node* is pure, i.e., containing recipes belonging to only one cuisine.\n"
      ]
    },
    {
      "cell_type": "markdown",
      "metadata": {
        "button": false,
        "new_sheet": false,
        "run_control": {
          "read_only": false
        },
        "id": "Sn76G80nU5on"
      },
      "source": [
        "Accordingly, decision trees is a suitable technique or algorithm for our recipe case study.\n"
      ]
    },
    {
      "cell_type": "markdown",
      "metadata": {
        "button": false,
        "new_sheet": false,
        "run_control": {
          "read_only": false
        },
        "id": "1JJvkhmEU5oo"
      },
      "source": [
        "### Thank you for completing this lab!\n",
        "\n",
        "This notebook was created by Alex Aklson. I hope you found this lab session interesting. Feel free to contact me if you have any questions!\n"
      ]
    },
    {
      "cell_type": "markdown",
      "metadata": {
        "button": false,
        "new_sheet": false,
        "run_control": {
          "read_only": false
        },
        "id": "t09HvxX9U5oo"
      },
      "source": [
        "## Author\n",
        "\n",
        "<a href=\"https://www.linkedin.com/in/joseph-s-50398b136/?utm_medium=Exinfluencer&utm_source=Exinfluencer&utm_content=000026UJ&utm_term=10006555&utm_id=NA-SkillsNetwork-Channel-SkillsNetworkCoursesIBMDeveloperSkillsNetworkDS0103ENSkillsNetwork20083987-2021-01-01\" target=\"_blank\">Joseph Santarcangelo</a>\n",
        "\n",
        "## Change Log\n",
        "\n",
        "| Date (YYYY-MM-DD) | Version | Changed By | Change Description                 |\n",
        "| ----------------- | ------- | ---------- | ---------------------------------- |\n",
        "| 2022-06-03        | 2.2     | Hema       | Corrected solution code            |\n",
        "| 2020-09-25        | 2.1     | Lakshmi    | Fixed Typo errors                  |\n",
        "| 2020-08-27        | 2.0     | Lavanya    | Moved lab to course repo in GitLab |\n",
        "\n",
        "<hr>\n",
        "\n",
        "## <h3 align=\"center\"> © IBM Corporation 2020. All rights reserved. <h3/>\n"
      ]
    }
  ],
  "metadata": {
    "kernelspec": {
      "display_name": "Python 3 (ipykernel)",
      "language": "python",
      "name": "python3"
    },
    "language_info": {
      "codemirror_mode": {
        "name": "ipython",
        "version": 3
      },
      "file_extension": ".py",
      "mimetype": "text/x-python",
      "name": "python",
      "nbconvert_exporter": "python",
      "pygments_lexer": "ipython3",
      "version": "3.9.7"
    },
    "colab": {
      "provenance": []
    }
  },
  "nbformat": 4,
  "nbformat_minor": 0
}